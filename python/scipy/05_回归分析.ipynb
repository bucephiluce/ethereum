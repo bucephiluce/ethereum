{
 "cells": [
  {
   "cell_type": "code",
   "execution_count": 28,
   "metadata": {},
   "outputs": [
    {
     "data": {
      "text/plain": [
       "array([ 0.        ,  0.52631579,  1.05263158,  1.57894737,  2.10526316,\n",
       "        2.63157895,  3.15789474,  3.68421053,  4.21052632,  4.73684211,\n",
       "        5.26315789,  5.78947368,  6.31578947,  6.84210526,  7.36842105,\n",
       "        7.89473684,  8.42105263,  8.94736842,  9.47368421, 10.        ])"
      ]
     },
     "execution_count": 28,
     "metadata": {},
     "output_type": "execute_result"
    }
   ],
   "source": [
    "import numpy as np\n",
    "import statsmodels.api as sm\n",
    "import matplotlib.pyplot as plt\n",
    "\n",
    "nsample = 20\n",
    "x = np.linspace(0, 10, nsample)\n",
    "x"
   ]
  },
  {
   "cell_type": "markdown",
   "metadata": {},
   "source": [
    "一元线性回归"
   ]
  },
  {
   "cell_type": "code",
   "execution_count": 29,
   "metadata": {},
   "outputs": [
    {
     "data": {
      "text/plain": [
       "array([[ 1.        ,  0.        ],\n",
       "       [ 1.        ,  0.52631579],\n",
       "       [ 1.        ,  1.05263158],\n",
       "       [ 1.        ,  1.57894737],\n",
       "       [ 1.        ,  2.10526316],\n",
       "       [ 1.        ,  2.63157895],\n",
       "       [ 1.        ,  3.15789474],\n",
       "       [ 1.        ,  3.68421053],\n",
       "       [ 1.        ,  4.21052632],\n",
       "       [ 1.        ,  4.73684211],\n",
       "       [ 1.        ,  5.26315789],\n",
       "       [ 1.        ,  5.78947368],\n",
       "       [ 1.        ,  6.31578947],\n",
       "       [ 1.        ,  6.84210526],\n",
       "       [ 1.        ,  7.36842105],\n",
       "       [ 1.        ,  7.89473684],\n",
       "       [ 1.        ,  8.42105263],\n",
       "       [ 1.        ,  8.94736842],\n",
       "       [ 1.        ,  9.47368421],\n",
       "       [ 1.        , 10.        ]])"
      ]
     },
     "execution_count": 29,
     "metadata": {},
     "output_type": "execute_result"
    }
   ],
   "source": [
    "X = sm.add_constant(x)\n",
    "X"
   ]
  },
  {
   "cell_type": "code",
   "execution_count": 30,
   "metadata": {},
   "outputs": [
    {
     "data": {
      "text/plain": [
       "array([2, 5])"
      ]
     },
     "execution_count": 30,
     "metadata": {},
     "output_type": "execute_result"
    }
   ],
   "source": [
    "# β0,β1分别设置成2,5\n",
    "beta = np.array([2,5])\n",
    "beta"
   ]
  },
  {
   "cell_type": "code",
   "execution_count": 31,
   "metadata": {},
   "outputs": [
    {
     "data": {
      "text/plain": [
       "array([-7.61976317e-03,  1.94259769e-05,  8.23374932e-03, -1.88285005e-03,\n",
       "        9.83877619e-05,  1.49752696e-03, -8.64452088e-03, -4.58501785e-03,\n",
       "        5.98739376e-03, -3.29765428e-03,  1.23144116e-02,  6.50696853e-03,\n",
       "       -8.10032908e-03, -1.96549809e-02,  7.72201779e-03,  1.25311649e-02,\n",
       "        3.50225726e-03,  7.61095307e-03, -2.22672973e-02,  8.90433028e-03])"
      ]
     },
     "execution_count": 31,
     "metadata": {},
     "output_type": "execute_result"
    }
   ],
   "source": [
    "# 给定一个高斯误差E\n",
    "e = np.random.normal(loc=0, scale=0.01, size=nsample)\n",
    "e "
   ]
  },
  {
   "cell_type": "code",
   "execution_count": 32,
   "metadata": {},
   "outputs": [
    {
     "data": {
      "text/plain": [
       "array([ 1.99238024,  4.63159837,  7.27139164,  9.89285399, 12.52641418,\n",
       "       15.15939226, 17.78082916, 20.41646761, 23.05861897, 25.68091287,\n",
       "       28.32810389, 30.95387539, 33.57084704, 36.19087133, 38.84982728,\n",
       "       41.48621538, 44.10876542, 46.74445306, 49.34615376, 52.00890433])"
      ]
     },
     "execution_count": 32,
     "metadata": {},
     "output_type": "execute_result"
    }
   ],
   "source": [
    "# 实际值y\n",
    "y = np.dot(X, beta) + e\n",
    "y"
   ]
  },
  {
   "cell_type": "code",
   "execution_count": 33,
   "metadata": {},
   "outputs": [],
   "source": [
    "# 最小二乘法\n",
    "model = sm.OLS(y, X)"
   ]
  },
  {
   "cell_type": "code",
   "execution_count": 34,
   "metadata": {},
   "outputs": [],
   "source": [
    "# 拟合数据\n",
    "res = model.fit()"
   ]
  },
  {
   "cell_type": "code",
   "execution_count": 35,
   "metadata": {},
   "outputs": [
    {
     "data": {
      "text/plain": [
       "array([1.9991506 , 5.00015864])"
      ]
     },
     "execution_count": 35,
     "metadata": {},
     "output_type": "execute_result"
    }
   ],
   "source": [
    "# 回归系数\n",
    "res.params"
   ]
  },
  {
   "cell_type": "code",
   "execution_count": 36,
   "metadata": {},
   "outputs": [
    {
     "data": {
      "text/html": [
       "<table class=\"simpletable\">\n",
       "<caption>OLS Regression Results</caption>\n",
       "<tr>\n",
       "  <th>Dep. Variable:</th>            <td>y</td>        <th>  R-squared:         </th> <td>   1.000</td> \n",
       "</tr>\n",
       "<tr>\n",
       "  <th>Model:</th>                   <td>OLS</td>       <th>  Adj. R-squared:    </th> <td>   1.000</td> \n",
       "</tr>\n",
       "<tr>\n",
       "  <th>Method:</th>             <td>Least Squares</td>  <th>  F-statistic:       </th> <td>4.664e+07</td>\n",
       "</tr>\n",
       "<tr>\n",
       "  <th>Date:</th>             <td>Wed, 21 Sep 2022</td> <th>  Prob (F-statistic):</th> <td>3.52e-59</td> \n",
       "</tr>\n",
       "<tr>\n",
       "  <th>Time:</th>                 <td>15:52:01</td>     <th>  Log-Likelihood:    </th> <td>  64.905</td> \n",
       "</tr>\n",
       "<tr>\n",
       "  <th>No. Observations:</th>      <td>    20</td>      <th>  AIC:               </th> <td>  -125.8</td> \n",
       "</tr>\n",
       "<tr>\n",
       "  <th>Df Residuals:</th>          <td>    18</td>      <th>  BIC:               </th> <td>  -123.8</td> \n",
       "</tr>\n",
       "<tr>\n",
       "  <th>Df Model:</th>              <td>     1</td>      <th>                     </th>     <td> </td>    \n",
       "</tr>\n",
       "<tr>\n",
       "  <th>Covariance Type:</th>      <td>nonrobust</td>    <th>                     </th>     <td> </td>    \n",
       "</tr>\n",
       "</table>\n",
       "<table class=\"simpletable\">\n",
       "<tr>\n",
       "    <td></td>       <th>coef</th>     <th>std err</th>      <th>t</th>      <th>P>|t|</th>  <th>[0.025</th>    <th>0.975]</th>  \n",
       "</tr>\n",
       "<tr>\n",
       "  <th>const</th> <td>    1.9992</td> <td>    0.004</td> <td>  466.849</td> <td> 0.000</td> <td>    1.990</td> <td>    2.008</td>\n",
       "</tr>\n",
       "<tr>\n",
       "  <th>x1</th>    <td>    5.0002</td> <td>    0.001</td> <td> 6829.591</td> <td> 0.000</td> <td>    4.999</td> <td>    5.002</td>\n",
       "</tr>\n",
       "</table>\n",
       "<table class=\"simpletable\">\n",
       "<tr>\n",
       "  <th>Omnibus:</th>       <td> 4.370</td> <th>  Durbin-Watson:     </th> <td>   2.199</td>\n",
       "</tr>\n",
       "<tr>\n",
       "  <th>Prob(Omnibus):</th> <td> 0.112</td> <th>  Jarque-Bera (JB):  </th> <td>   2.809</td>\n",
       "</tr>\n",
       "<tr>\n",
       "  <th>Skew:</th>          <td>-0.911</td> <th>  Prob(JB):          </th> <td>   0.246</td>\n",
       "</tr>\n",
       "<tr>\n",
       "  <th>Kurtosis:</th>      <td> 3.221</td> <th>  Cond. No.          </th> <td>    11.5</td>\n",
       "</tr>\n",
       "</table><br/><br/>Notes:<br/>[1] Standard Errors assume that the covariance matrix of the errors is correctly specified."
      ],
      "text/plain": [
       "<class 'statsmodels.iolib.summary.Summary'>\n",
       "\"\"\"\n",
       "                            OLS Regression Results                            \n",
       "==============================================================================\n",
       "Dep. Variable:                      y   R-squared:                       1.000\n",
       "Model:                            OLS   Adj. R-squared:                  1.000\n",
       "Method:                 Least Squares   F-statistic:                 4.664e+07\n",
       "Date:                Wed, 21 Sep 2022   Prob (F-statistic):           3.52e-59\n",
       "Time:                        15:52:01   Log-Likelihood:                 64.905\n",
       "No. Observations:                  20   AIC:                            -125.8\n",
       "Df Residuals:                      18   BIC:                            -123.8\n",
       "Df Model:                           1                                         \n",
       "Covariance Type:            nonrobust                                         \n",
       "==============================================================================\n",
       "                 coef    std err          t      P>|t|      [0.025      0.975]\n",
       "------------------------------------------------------------------------------\n",
       "const          1.9992      0.004    466.849      0.000       1.990       2.008\n",
       "x1             5.0002      0.001   6829.591      0.000       4.999       5.002\n",
       "==============================================================================\n",
       "Omnibus:                        4.370   Durbin-Watson:                   2.199\n",
       "Prob(Omnibus):                  0.112   Jarque-Bera (JB):                2.809\n",
       "Skew:                          -0.911   Prob(JB):                        0.246\n",
       "Kurtosis:                       3.221   Cond. No.                         11.5\n",
       "==============================================================================\n",
       "\n",
       "Notes:\n",
       "[1] Standard Errors assume that the covariance matrix of the errors is correctly specified.\n",
       "\"\"\""
      ]
     },
     "execution_count": 36,
     "metadata": {},
     "output_type": "execute_result"
    }
   ],
   "source": [
    "# 全部结果\n",
    "res.summary()"
   ]
  },
  {
   "cell_type": "code",
   "execution_count": 37,
   "metadata": {},
   "outputs": [
    {
     "data": {
      "text/plain": [
       "array([ 1.9991506 ,  4.63081304,  7.26247548,  9.89413793, 12.52580037,\n",
       "       15.15746281, 17.78912526, 20.4207877 , 23.05245014, 25.68411259,\n",
       "       28.31577503, 30.94743747, 33.57909992, 36.21076236, 38.8424248 ,\n",
       "       41.47408725, 44.10574969, 46.73741214, 49.36907458, 52.00073702])"
      ]
     },
     "execution_count": 37,
     "metadata": {},
     "output_type": "execute_result"
    }
   ],
   "source": [
    "# 拟合的估计值\n",
    "y_ = res.fittedvalues\n",
    "y_"
   ]
  },
  {
   "cell_type": "code",
   "execution_count": 38,
   "metadata": {},
   "outputs": [
    {
     "data": {
      "image/png": "[encoded data removed]",
      "text/plain": [
       "<Figure size 936x432 with 1 Axes>"
      ]
     },
     "metadata": {
      "needs_background": "light"
     },
     "output_type": "display_data"
    }
   ],
   "source": [
    "# 设置画布大小\n",
    "plt.figure(figsize=(13, 6))\n",
    "plt.plot(x, y, 'o', label='ture')\n",
    "plt.plot(x, y_, 'r--', label='predict')\n",
    "plt.legend(loc='best')\n",
    "plt.show()"
   ]
  },
  {
   "cell_type": "markdown",
   "metadata": {},
   "source": [
    "高阶回归"
   ]
  },
  {
   "cell_type": "code",
   "execution_count": 39,
   "metadata": {},
   "outputs": [
    {
     "data": {
      "text/plain": [
       "array([5.47610415, 1.94492383, 3.00019776])"
      ]
     },
     "execution_count": 39,
     "metadata": {},
     "output_type": "execute_result"
    }
   ],
   "source": [
    "nsample = 50\n",
    "x = np.linspace(0, 10, nsample)\n",
    "X = np.column_stack((x, x**2))\n",
    "X = sm.add_constant(X)\n",
    "beta = np.array([5,2,3])\n",
    "e = np.random.normal(size=nsample)\n",
    "y = np.dot(X, beta) + e\n",
    "\n",
    "model = sm.OLS(y, X)\n",
    "res = model.fit()\n",
    "res.params"
   ]
  },
  {
   "cell_type": "code",
   "execution_count": 40,
   "metadata": {},
   "outputs": [
    {
     "data": {
      "text/html": [
       "<table class=\"simpletable\">\n",
       "<caption>OLS Regression Results</caption>\n",
       "<tr>\n",
       "  <th>Dep. Variable:</th>            <td>y</td>        <th>  R-squared:         </th> <td>   1.000</td> \n",
       "</tr>\n",
       "<tr>\n",
       "  <th>Model:</th>                   <td>OLS</td>       <th>  Adj. R-squared:    </th> <td>   1.000</td> \n",
       "</tr>\n",
       "<tr>\n",
       "  <th>Method:</th>             <td>Least Squares</td>  <th>  F-statistic:       </th> <td>2.159e+05</td>\n",
       "</tr>\n",
       "<tr>\n",
       "  <th>Date:</th>             <td>Wed, 21 Sep 2022</td> <th>  Prob (F-statistic):</th> <td>7.33e-94</td> \n",
       "</tr>\n",
       "<tr>\n",
       "  <th>Time:</th>                 <td>15:52:21</td>     <th>  Log-Likelihood:    </th> <td> -71.503</td> \n",
       "</tr>\n",
       "<tr>\n",
       "  <th>No. Observations:</th>      <td>    50</td>      <th>  AIC:               </th> <td>   149.0</td> \n",
       "</tr>\n",
       "<tr>\n",
       "  <th>Df Residuals:</th>          <td>    47</td>      <th>  BIC:               </th> <td>   154.7</td> \n",
       "</tr>\n",
       "<tr>\n",
       "  <th>Df Model:</th>              <td>     2</td>      <th>                     </th>     <td> </td>    \n",
       "</tr>\n",
       "<tr>\n",
       "  <th>Covariance Type:</th>      <td>nonrobust</td>    <th>                     </th>     <td> </td>    \n",
       "</tr>\n",
       "</table>\n",
       "<table class=\"simpletable\">\n",
       "<tr>\n",
       "    <td></td>       <th>coef</th>     <th>std err</th>      <th>t</th>      <th>P>|t|</th>  <th>[0.025</th>    <th>0.975]</th>  \n",
       "</tr>\n",
       "<tr>\n",
       "  <th>const</th> <td>    5.4761</td> <td>    0.425</td> <td>   12.874</td> <td> 0.000</td> <td>    4.620</td> <td>    6.332</td>\n",
       "</tr>\n",
       "<tr>\n",
       "  <th>x1</th>    <td>    1.9449</td> <td>    0.197</td> <td>    9.887</td> <td> 0.000</td> <td>    1.549</td> <td>    2.341</td>\n",
       "</tr>\n",
       "<tr>\n",
       "  <th>x2</th>    <td>    3.0002</td> <td>    0.019</td> <td>  157.704</td> <td> 0.000</td> <td>    2.962</td> <td>    3.038</td>\n",
       "</tr>\n",
       "</table>\n",
       "<table class=\"simpletable\">\n",
       "<tr>\n",
       "  <th>Omnibus:</th>       <td> 0.862</td> <th>  Durbin-Watson:     </th> <td>   2.223</td>\n",
       "</tr>\n",
       "<tr>\n",
       "  <th>Prob(Omnibus):</th> <td> 0.650</td> <th>  Jarque-Bera (JB):  </th> <td>   0.904</td>\n",
       "</tr>\n",
       "<tr>\n",
       "  <th>Skew:</th>          <td>-0.181</td> <th>  Prob(JB):          </th> <td>   0.636</td>\n",
       "</tr>\n",
       "<tr>\n",
       "  <th>Kurtosis:</th>      <td> 2.449</td> <th>  Cond. No.          </th> <td>    142.</td>\n",
       "</tr>\n",
       "</table><br/><br/>Notes:<br/>[1] Standard Errors assume that the covariance matrix of the errors is correctly specified."
      ],
      "text/plain": [
       "<class 'statsmodels.iolib.summary.Summary'>\n",
       "\"\"\"\n",
       "                            OLS Regression Results                            \n",
       "==============================================================================\n",
       "Dep. Variable:                      y   R-squared:                       1.000\n",
       "Model:                            OLS   Adj. R-squared:                  1.000\n",
       "Method:                 Least Squares   F-statistic:                 2.159e+05\n",
       "Date:                Wed, 21 Sep 2022   Prob (F-statistic):           7.33e-94\n",
       "Time:                        15:52:21   Log-Likelihood:                -71.503\n",
       "No. Observations:                  50   AIC:                             149.0\n",
       "Df Residuals:                      47   BIC:                             154.7\n",
       "Df Model:                           2                                         \n",
       "Covariance Type:            nonrobust                                         \n",
       "==============================================================================\n",
       "                 coef    std err          t      P>|t|      [0.025      0.975]\n",
       "------------------------------------------------------------------------------\n",
       "const          5.4761      0.425     12.874      0.000       4.620       6.332\n",
       "x1             1.9449      0.197      9.887      0.000       1.549       2.341\n",
       "x2             3.0002      0.019    157.704      0.000       2.962       3.038\n",
       "==============================================================================\n",
       "Omnibus:                        0.862   Durbin-Watson:                   2.223\n",
       "Prob(Omnibus):                  0.650   Jarque-Bera (JB):                0.904\n",
       "Skew:                          -0.181   Prob(JB):                        0.636\n",
       "Kurtosis:                       2.449   Cond. No.                         142.\n",
       "==============================================================================\n",
       "\n",
       "Notes:\n",
       "[1] Standard Errors assume that the covariance matrix of the errors is correctly specified.\n",
       "\"\"\""
      ]
     },
     "execution_count": 40,
     "metadata": {},
     "output_type": "execute_result"
    }
   ],
   "source": [
    "res.summary()"
   ]
  },
  {
   "cell_type": "markdown",
   "metadata": {},
   "source": [
    "分类变量"
   ]
  },
  {
   "cell_type": "code",
   "execution_count": 41,
   "metadata": {},
   "outputs": [
    {
     "data": {
      "text/plain": [
       "array([0, 0, 0, 0, 0, 0, 0, 0, 0, 0, 0, 0, 0, 0, 0, 0, 0, 0, 0, 0, 0, 0,\n",
       "       0, 0, 0, 0, 0, 0, 0, 0, 0, 0, 0, 0, 0, 0, 0, 0, 0, 0, 0, 0, 0, 0,\n",
       "       0, 0, 0, 0, 0, 0])"
      ]
     },
     "execution_count": 41,
     "metadata": {},
     "output_type": "execute_result"
    }
   ],
   "source": [
    "nsample = 50\n",
    "groups = np.zeros(nsample,int)\n",
    "groups"
   ]
  },
  {
   "cell_type": "code",
   "execution_count": 42,
   "metadata": {},
   "outputs": [
    {
     "name": "stderr",
     "output_type": "stream",
     "text": [
      "c:\\python3.10.5\\lib\\site-packages\\statsmodels\\tools\\tools.py:152: FutureWarning: categorical is deprecated. Use pandas Categorical to represent categorical data and can get_dummies to construct dummy arrays. It will be removed after release 0.13.\n",
      "  warnings.warn(\n"
     ]
    },
    {
     "data": {
      "text/plain": [
       "array([[1., 0., 0.],\n",
       "       [1., 0., 0.],\n",
       "       [1., 0., 0.],\n",
       "       [1., 0., 0.],\n",
       "       [1., 0., 0.],\n",
       "       [1., 0., 0.],\n",
       "       [1., 0., 0.],\n",
       "       [1., 0., 0.],\n",
       "       [1., 0., 0.],\n",
       "       [1., 0., 0.],\n",
       "       [1., 0., 0.],\n",
       "       [1., 0., 0.],\n",
       "       [1., 0., 0.],\n",
       "       [1., 0., 0.],\n",
       "       [1., 0., 0.],\n",
       "       [1., 0., 0.],\n",
       "       [1., 0., 0.],\n",
       "       [1., 0., 0.],\n",
       "       [1., 0., 0.],\n",
       "       [1., 0., 0.],\n",
       "       [0., 1., 0.],\n",
       "       [0., 1., 0.],\n",
       "       [0., 1., 0.],\n",
       "       [0., 1., 0.],\n",
       "       [0., 1., 0.],\n",
       "       [0., 1., 0.],\n",
       "       [0., 1., 0.],\n",
       "       [0., 1., 0.],\n",
       "       [0., 1., 0.],\n",
       "       [0., 1., 0.],\n",
       "       [0., 1., 0.],\n",
       "       [0., 1., 0.],\n",
       "       [0., 1., 0.],\n",
       "       [0., 1., 0.],\n",
       "       [0., 1., 0.],\n",
       "       [0., 1., 0.],\n",
       "       [0., 1., 0.],\n",
       "       [0., 1., 0.],\n",
       "       [0., 1., 0.],\n",
       "       [0., 1., 0.],\n",
       "       [0., 0., 1.],\n",
       "       [0., 0., 1.],\n",
       "       [0., 0., 1.],\n",
       "       [0., 0., 1.],\n",
       "       [0., 0., 1.],\n",
       "       [0., 0., 1.],\n",
       "       [0., 0., 1.],\n",
       "       [0., 0., 1.],\n",
       "       [0., 0., 1.],\n",
       "       [0., 0., 1.]])"
      ]
     },
     "execution_count": 42,
     "metadata": {},
     "output_type": "execute_result"
    }
   ],
   "source": [
    "groups[20:40] = 1\n",
    "groups[40:] = 2\n",
    "dummy = sm.categorical(groups, drop=True)\n",
    "dummy"
   ]
  },
  {
   "cell_type": "code",
   "execution_count": 43,
   "metadata": {},
   "outputs": [
    {
     "data": {
      "text/html": [
       "<table class=\"simpletable\">\n",
       "<caption>OLS Regression Results</caption>\n",
       "<tr>\n",
       "  <th>Dep. Variable:</th>            <td>y</td>        <th>  R-squared:         </th> <td>   0.997</td>\n",
       "</tr>\n",
       "<tr>\n",
       "  <th>Model:</th>                   <td>OLS</td>       <th>  Adj. R-squared:    </th> <td>   0.997</td>\n",
       "</tr>\n",
       "<tr>\n",
       "  <th>Method:</th>             <td>Least Squares</td>  <th>  F-statistic:       </th> <td>   5666.</td>\n",
       "</tr>\n",
       "<tr>\n",
       "  <th>Date:</th>             <td>Wed, 21 Sep 2022</td> <th>  Prob (F-statistic):</th> <td>4.54e-59</td>\n",
       "</tr>\n",
       "<tr>\n",
       "  <th>Time:</th>                 <td>15:52:31</td>     <th>  Log-Likelihood:    </th> <td> -53.717</td>\n",
       "</tr>\n",
       "<tr>\n",
       "  <th>No. Observations:</th>      <td>    50</td>      <th>  AIC:               </th> <td>   115.4</td>\n",
       "</tr>\n",
       "<tr>\n",
       "  <th>Df Residuals:</th>          <td>    46</td>      <th>  BIC:               </th> <td>   123.1</td>\n",
       "</tr>\n",
       "<tr>\n",
       "  <th>Df Model:</th>              <td>     3</td>      <th>                     </th>     <td> </td>   \n",
       "</tr>\n",
       "<tr>\n",
       "  <th>Covariance Type:</th>      <td>nonrobust</td>    <th>                     </th>     <td> </td>   \n",
       "</tr>\n",
       "</table>\n",
       "<table class=\"simpletable\">\n",
       "<tr>\n",
       "    <td></td>       <th>coef</th>     <th>std err</th>      <th>t</th>      <th>P>|t|</th>  <th>[0.025</th>    <th>0.975]</th>  \n",
       "</tr>\n",
       "<tr>\n",
       "  <th>const</th> <td>    8.2307</td> <td>    0.419</td> <td>   19.667</td> <td> 0.000</td> <td>    7.388</td> <td>    9.073</td>\n",
       "</tr>\n",
       "<tr>\n",
       "  <th>x1</th>    <td>    1.9974</td> <td>    0.048</td> <td>   41.481</td> <td> 0.000</td> <td>    1.900</td> <td>    2.094</td>\n",
       "</tr>\n",
       "<tr>\n",
       "  <th>x2</th>    <td>    0.0708</td> <td>    0.265</td> <td>    0.267</td> <td> 0.791</td> <td>   -0.463</td> <td>    0.605</td>\n",
       "</tr>\n",
       "<tr>\n",
       "  <th>x3</th>    <td>    2.8662</td> <td>    0.222</td> <td>   12.922</td> <td> 0.000</td> <td>    2.420</td> <td>    3.313</td>\n",
       "</tr>\n",
       "<tr>\n",
       "  <th>x4</th>    <td>    5.2937</td> <td>    0.500</td> <td>   10.594</td> <td> 0.000</td> <td>    4.288</td> <td>    6.300</td>\n",
       "</tr>\n",
       "</table>\n",
       "<table class=\"simpletable\">\n",
       "<tr>\n",
       "  <th>Omnibus:</th>       <td> 0.640</td> <th>  Durbin-Watson:     </th> <td>   2.243</td>\n",
       "</tr>\n",
       "<tr>\n",
       "  <th>Prob(Omnibus):</th> <td> 0.726</td> <th>  Jarque-Bera (JB):  </th> <td>   0.198</td>\n",
       "</tr>\n",
       "<tr>\n",
       "  <th>Skew:</th>          <td> 0.129</td> <th>  Prob(JB):          </th> <td>   0.906</td>\n",
       "</tr>\n",
       "<tr>\n",
       "  <th>Kurtosis:</th>      <td> 3.168</td> <th>  Cond. No.          </th> <td>1.04e+17</td>\n",
       "</tr>\n",
       "</table><br/><br/>Notes:<br/>[1] Standard Errors assume that the covariance matrix of the errors is correctly specified.<br/>[2] The smallest eigenvalue is 6.27e-31. This might indicate that there are<br/>strong multicollinearity problems or that the design matrix is singular."
      ],
      "text/plain": [
       "<class 'statsmodels.iolib.summary.Summary'>\n",
       "\"\"\"\n",
       "                            OLS Regression Results                            \n",
       "==============================================================================\n",
       "Dep. Variable:                      y   R-squared:                       0.997\n",
       "Model:                            OLS   Adj. R-squared:                  0.997\n",
       "Method:                 Least Squares   F-statistic:                     5666.\n",
       "Date:                Wed, 21 Sep 2022   Prob (F-statistic):           4.54e-59\n",
       "Time:                        15:52:31   Log-Likelihood:                -53.717\n",
       "No. Observations:                  50   AIC:                             115.4\n",
       "Df Residuals:                      46   BIC:                             123.1\n",
       "Df Model:                           3                                         \n",
       "Covariance Type:            nonrobust                                         \n",
       "==============================================================================\n",
       "                 coef    std err          t      P>|t|      [0.025      0.975]\n",
       "------------------------------------------------------------------------------\n",
       "const          8.2307      0.419     19.667      0.000       7.388       9.073\n",
       "x1             1.9974      0.048     41.481      0.000       1.900       2.094\n",
       "x2             0.0708      0.265      0.267      0.791      -0.463       0.605\n",
       "x3             2.8662      0.222     12.922      0.000       2.420       3.313\n",
       "x4             5.2937      0.500     10.594      0.000       4.288       6.300\n",
       "==============================================================================\n",
       "Omnibus:                        0.640   Durbin-Watson:                   2.243\n",
       "Prob(Omnibus):                  0.726   Jarque-Bera (JB):                0.198\n",
       "Skew:                           0.129   Prob(JB):                        0.906\n",
       "Kurtosis:                       3.168   Cond. No.                     1.04e+17\n",
       "==============================================================================\n",
       "\n",
       "Notes:\n",
       "[1] Standard Errors assume that the covariance matrix of the errors is correctly specified.\n",
       "[2] The smallest eigenvalue is 6.27e-31. This might indicate that there are\n",
       "strong multicollinearity problems or that the design matrix is singular.\n",
       "\"\"\""
      ]
     },
     "execution_count": 43,
     "metadata": {},
     "output_type": "execute_result"
    }
   ],
   "source": [
    "# y = 5 + 2x + 3z1 + 6z2 + 9z3\n",
    "x = np.linspace(0, 20, nsample)\n",
    "X = np.column_stack((x, dummy))\n",
    "X = sm.add_constant(X)\n",
    "beta = np.array([5,2,3,6,9])\n",
    "e = np.random.normal(size=nsample)\n",
    "y = np.dot(X, beta) + e\n",
    "\n",
    "model = sm.OLS(y, X)\n",
    "res = model.fit()\n",
    "res.summary()"
   ]
  },
  {
   "cell_type": "code",
   "execution_count": 44,
   "metadata": {},
   "outputs": [
    {
     "data": {
      "image/png": "[encoded data removed]",
      "text/plain": [
       "<Figure size 936x432 with 1 Axes>"
      ]
     },
     "metadata": {
      "needs_background": "light"
     },
     "output_type": "display_data"
    }
   ],
   "source": [
    "fig, ax = plt.subplots(figsize=(13, 6))\n",
    "ax.plot(x, y, 'o', label='ture')\n",
    "ax.plot(x, res.fittedvalues, 'r--', label='predict')\n",
    "ax.legend(loc='best')\n",
    "plt.show()"
   ]
  }
 ],
 "metadata": {
  "kernelspec": {
   "display_name": "Python 3.10.5 64-bit",
   "language": "python",
   "name": "python3"
  },
  "language_info": {
   "codemirror_mode": {
    "name": "ipython",
    "version": 3
   },
   "file_extension": ".py",
   "mimetype": "text/x-python",
   "name": "python",
   "nbconvert_exporter": "python",
   "pygments_lexer": "ipython3",
   "version": "3.10.5"
  },
  "orig_nbformat": 4,
  "vscode": {
   "interpreter": {
    "hash": "d68e442367879204e0a7bf2d334cb40b49caea16ad4b3910ab3fb167f0e369e2"
   }
  }
 },
 "nbformat": 4,
 "nbformat_minor": 2
}
