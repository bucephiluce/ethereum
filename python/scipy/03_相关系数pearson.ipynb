{
 "cells": [
  {
   "cell_type": "code",
   "execution_count": 14,
   "metadata": {},
   "outputs": [
    {
     "data": {
      "text/plain": [
       "array([[1.        , 0.64168895, 0.84016805],\n",
       "       [0.64168895, 1.        , 0.76376262],\n",
       "       [0.84016805, 0.76376262, 1.        ]])"
      ]
     },
     "execution_count": 14,
     "metadata": {},
     "output_type": "execute_result"
    }
   ],
   "source": [
    "import numpy as np\n",
    "tang = np.array([\n",
    "    [10,10,8,9,7],\n",
    "    [4,5,4,3,3],\n",
    "    [3,3,1,1,1],\n",
    "])\n",
    "\n",
    "np.corrcoef(tang)"
   ]
  },
  {
   "cell_type": "code",
   "execution_count": 15,
   "metadata": {},
   "outputs": [
    {
     "data": {
      "text/plain": [
       "array([[1.        , 0.98898224, 0.9526832 , 0.9939441 , 0.97986371],\n",
       "       [0.98898224, 1.        , 0.98718399, 0.99926008, 0.99862543],\n",
       "       [0.9526832 , 0.98718399, 1.        , 0.98031562, 0.99419163],\n",
       "       [0.9939441 , 0.99926008, 0.98031562, 1.        , 0.99587059],\n",
       "       [0.97986371, 0.99862543, 0.99419163, 0.99587059, 1.        ]])"
      ]
     },
     "execution_count": 15,
     "metadata": {},
     "output_type": "execute_result"
    }
   ],
   "source": [
    "# 可以计算各列之间的相关系数\n",
    "np.corrcoef(tang, rowvar=0)"
   ]
  },
  {
   "cell_type": "markdown",
   "metadata": {},
   "source": [
    "#### 皮尔森相关系数适用于线性模型!"
   ]
  },
  {
   "cell_type": "code",
   "execution_count": 16,
   "metadata": {},
   "outputs": [
    {
     "name": "stdout",
     "output_type": "stream",
     "text": [
      "correlation =   0.9891763198690561\n",
      "pvalue =   5.926875946481378e-08\n"
     ]
    }
   ],
   "source": [
    "import numpy as np\n",
    "import scipy.stats as stats\n",
    "import scipy\n",
    "\n",
    "x = [10.35,6.24,3.18,8.46,3.21,7.65,4.32,8.66,9.12,10.31]\n",
    "y = [5.1,3.15,1.67,4.33,1.76,4.11,2.11,4.88,4.99,5.12]\n",
    "\n",
    "correlation, pvalue = stats.pearsonr(x, y)\n",
    "print('correlation =  ', correlation)\n",
    "# 皮尔森相关系数: H0 -> 原假设: 没有相关; H1 -> 备择假设: 相关\n",
    "print('pvalue =  ', pvalue)"
   ]
  },
  {
   "cell_type": "code",
   "execution_count": 18,
   "metadata": {},
   "outputs": [
    {
     "data": {
      "image/png": "[encoded data removed]",
      "text/plain": [
       "<Figure size 432x288 with 1 Axes>"
      ]
     },
     "metadata": {
      "needs_background": "light"
     },
     "output_type": "display_data"
    }
   ],
   "source": [
    "import matplotlib.pyplot as plt\n",
    "\n",
    "plt.scatter(x ,y ,color = 'y')\n",
    "plt.show()\n"
   ]
  },
  {
   "cell_type": "markdown",
   "metadata": {},
   "source": [
    "#### 非线性的相关数据,使用皮尔森的时候效果就会很差"
   ]
  },
  {
   "cell_type": "code",
   "execution_count": 19,
   "metadata": {},
   "outputs": [
    {
     "name": "stdout",
     "output_type": "stream",
     "text": [
      "correlation =   0.7683556816622533\n",
      "pvalue =   0.025925989640049284\n"
     ]
    }
   ],
   "source": [
    "import numpy as np\n",
    "import scipy.stats as stats\n",
    "import scipy\n",
    "\n",
    "x = [0.6,0.7,1.2,2.1,2.9,3.2,5.5,6.7]\n",
    "y = np.power(x,10)\n",
    "\n",
    "correlation, pvalue = stats.pearsonr(x, y)\n",
    "print('correlation =  ', correlation)\n",
    "# 皮尔森相关系数: H0 -> 原假设: 没有相关; H1 -> 备择假设: 相关\n",
    "print('pvalue =  ', pvalue)"
   ]
  },
  {
   "cell_type": "code",
   "execution_count": 20,
   "metadata": {},
   "outputs": [
    {
     "data": {
      "image/png": "[encoded data removed]",
      "text/plain": [
       "<Figure size 432x288 with 1 Axes>"
      ]
     },
     "metadata": {
      "needs_background": "light"
     },
     "output_type": "display_data"
    }
   ],
   "source": [
    "plt.scatter(x ,y ,color = 'r')\n",
    "plt.show()"
   ]
  },
  {
   "cell_type": "markdown",
   "metadata": {},
   "source": [
    "#### 斯皮尔曼分等级相关系数"
   ]
  },
  {
   "cell_type": "code",
   "execution_count": 21,
   "metadata": {},
   "outputs": [
    {
     "name": "stdout",
     "output_type": "stream",
     "text": [
      "correlation =   0.9878787878787878\n",
      "pvalue =   9.307459988955517e-08\n"
     ]
    }
   ],
   "source": [
    "x = [10.35,6.24,3.18,8.46,3.21,7.65,4.32,8.66,9.12,10.31]\n",
    "y = [5.1,3.15,1.67,4.33,1.76,4.11,2.11,4.88,4.99,5.12]\n",
    "\n",
    "correlation, pvalue = stats.spearmanr(x, y)\n",
    "print('correlation =  ', correlation)\n",
    "# 斯皮尔曼相关系数: H0 -> 原假设: 没有相关; H1 -> 备择假设: 相关\n",
    "print('pvalue =  ', pvalue)"
   ]
  },
  {
   "cell_type": "code",
   "execution_count": 22,
   "metadata": {},
   "outputs": [
    {
     "name": "stdout",
     "output_type": "stream",
     "text": [
      "[10.  4.  1.  6.  2.  5.  3.  7.  8.  9.] \n",
      " [ 9.  4.  1.  6.  2.  5.  3.  7.  8. 10.]\n",
      "correlation =   0.9878787878787878\n",
      "pvalue =   9.307459988955517e-08\n"
     ]
    }
   ],
   "source": [
    "x = [10.35,6.24,3.18,8.46,3.21,7.65,4.32,8.66,9.12,10.31]\n",
    "y = [5.1,3.15,1.67,4.33,1.76,4.11,2.11,4.88,4.99,5.12]\n",
    "\n",
    "# 等级划分的函数\n",
    "x = stats.rankdata(x)\n",
    "y = stats.rankdata(y)\n",
    "print(x , '\\n', y)\n",
    "\n",
    "correlation, pvalue = stats.spearmanr(x, y)\n",
    "print('correlation =  ', correlation)\n",
    "# 斯皮尔曼相关系数: H0 -> 原假设: 没有相关; H1 -> 备择假设: 相关\n",
    "print('pvalue =  ', pvalue)"
   ]
  },
  {
   "cell_type": "markdown",
   "metadata": {},
   "source": [
    "#### 肯德尔和谐系数(Kendall)"
   ]
  },
  {
   "cell_type": "markdown",
   "metadata": {},
   "source": [
    "#### 质量相关\n",
    "#### 二列相关\n",
    "#### 点二列相关"
   ]
  },
  {
   "cell_type": "markdown",
   "metadata": {},
   "source": [
    "#### 品质相关分析"
   ]
  },
  {
   "cell_type": "markdown",
   "metadata": {},
   "source": [
    "偏相关系数\n",
    "\n",
    "复相关系数"
   ]
  }
 ],
 "metadata": {
  "kernelspec": {
   "display_name": "Python 3.10.5 64-bit",
   "language": "python",
   "name": "python3"
  },
  "language_info": {
   "codemirror_mode": {
    "name": "ipython",
    "version": 3
   },
   "file_extension": ".py",
   "mimetype": "text/x-python",
   "name": "python",
   "nbconvert_exporter": "python",
   "pygments_lexer": "ipython3",
   "version": "3.10.5"
  },
  "orig_nbformat": 4,
  "vscode": {
   "interpreter": {
    "hash": "d68e442367879204e0a7bf2d334cb40b49caea16ad4b3910ab3fb167f0e369e2"
   }
  }
 },
 "nbformat": 4,
 "nbformat_minor": 2
}
