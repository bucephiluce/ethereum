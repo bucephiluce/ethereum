{
 "cells": [
  {
   "cell_type": "markdown",
   "metadata": {},
   "source": [
    "### 神经网络\n",
    "\n",
    "<img src='img/801.jpg'>\n",
    "<img src='img/802.jpg'>\n",
    "<img src='img/803.jpg'>\n",
    "<img src='img/804.jpg'>\n",
    "<img src='img/805.jpg'>\n",
    "<img src='img/806.jpg'>\n",
    "<img src='img/807.jpg'>\n",
    "<img src='img/808.png'>\n",
    "<img src='img/809.jpg'>\n",
    "<img src='img/810.jpg'>\n",
    "<img src='img/812.png'>\n",
    "<img src='img/811.jpg'>\n",
    "<img src='img/813.jpg'>\n",
    "<img src='img/814.jpg'>\n",
    "<img src='img/815.jpg'>\n",
    "<img src='img/816.jpg'>\n",
    "<img src='img/818.png'>\n",
    "<img src='img/817.jpg'>\n",
    "<img src='img/819.jpg'>\n",
    "<img src='img/820.jpg'>\n",
    "<img src='img/821.jpg'>\n",
    "<img src='img/822.jpg'>\n",
    "<img src='img/823.jpg'>\n",
    "<img src='img/824.jpg'>\n",
    "<img src='img/825.jpg'>\n",
    "<img src='img/826.jpg'>"
   ]
  },
  {
   "cell_type": "code",
   "execution_count": null,
   "metadata": {},
   "outputs": [],
   "source": []
  }
 ],
 "metadata": {
  "kernelspec": {
   "display_name": "Python 3.10.5 64-bit",
   "language": "python",
   "name": "python3"
  },
  "language_info": {
   "name": "python",
   "version": "3.10.5"
  },
  "orig_nbformat": 4,
  "vscode": {
   "interpreter": {
    "hash": "d68e442367879204e0a7bf2d334cb40b49caea16ad4b3910ab3fb167f0e369e2"
   }
  }
 },
 "nbformat": 4,
 "nbformat_minor": 2
}
