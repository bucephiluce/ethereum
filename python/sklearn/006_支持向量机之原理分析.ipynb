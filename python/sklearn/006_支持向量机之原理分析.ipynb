{
 "cells": [
  {
   "cell_type": "markdown",
   "metadata": {},
   "source": [
    "### 支持向量机\n",
    "\n",
    "<img src='img/701.jpg'>\n",
    "<img src='img/702.jpg'>\n",
    "<img src='img/703.jpg'>\n",
    "<img src='img/704.jpg'>\n",
    "<img src='img/705.jpg'>\n",
    "<img src='img/706.jpg'>\n",
    "<img src='img/707.jpg'>\n",
    "<img src='img/708.jpg'>\n",
    "<img src='img/709.jpg'>\n",
    "<img src='img/710.jpg'>\n",
    "<img src='img/711.jpg'>\n",
    "<img src='img/712.jpg'>\n",
    "<img src='img/713.jpg'>\n",
    "<img src='img/714.jpg'>\n",
    "<img src='img/715.jpg'>\n",
    "<img src='img/716.jpg'>\n",
    "<img src='img/717.jpg'>\n",
    "<img src='img/718.jpg'>\n",
    "<img src='img/719.jpg'>\n",
    "<img src='img/720.jpg'>"
   ]
  },
  {
   "cell_type": "code",
   "execution_count": null,
   "metadata": {},
   "outputs": [],
   "source": []
  }
 ],
 "metadata": {
  "kernelspec": {
   "display_name": "Python 3.10.5 64-bit",
   "language": "python",
   "name": "python3"
  },
  "language_info": {
   "name": "python",
   "version": "3.10.5"
  },
  "orig_nbformat": 4,
  "vscode": {
   "interpreter": {
    "hash": "d68e442367879204e0a7bf2d334cb40b49caea16ad4b3910ab3fb167f0e369e2"
   }
  }
 },
 "nbformat": 4,
 "nbformat_minor": 2
}
